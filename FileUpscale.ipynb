{
  "nbformat": 4,
  "nbformat_minor": 0,
  "metadata": {
    "colab": {
      "provenance": [],
      "authorship_tag": "ABX9TyMzChGyjkfbVToGiz13QUL4",
      "include_colab_link": true
    },
    "kernelspec": {
      "name": "python3",
      "display_name": "Python 3"
    },
    "language_info": {
      "name": "python"
    }
  },
  "cells": [
    {
      "cell_type": "markdown",
      "metadata": {
        "id": "view-in-github",
        "colab_type": "text"
      },
      "source": [
        "<a href=\"https://colab.research.google.com/github/henn0124/GoogleColabTests/blob/main/FileUpscale.ipynb\" target=\"_parent\"><img src=\"https://colab.research.google.com/assets/colab-badge.svg\" alt=\"Open In Colab\"/></a>"
      ]
    },
    {
      "cell_type": "code",
      "source": [
        "!pip install pillow"
      ],
      "metadata": {
        "colab": {
          "base_uri": "https://localhost:8080/"
        },
        "id": "6ZwgLwc0bwNV",
        "outputId": "a38b85ee-4461-44d2-df81-f8d44f34481e"
      },
      "execution_count": 1,
      "outputs": [
        {
          "output_type": "stream",
          "name": "stdout",
          "text": [
            "Looking in indexes: https://pypi.org/simple, https://us-python.pkg.dev/colab-wheels/public/simple/\n",
            "Requirement already satisfied: pillow in /usr/local/lib/python3.10/dist-packages (8.4.0)\n"
          ]
        }
      ]
    },
    {
      "cell_type": "code",
      "source": [
        "#ATTACH GOOGLE DRIVE\n",
        "\n",
        "from google.colab import drive\n",
        "\n",
        "# Mount Google Drive\n",
        "drive.mount('/content/drive')\n",
        "\n",
        "# Provide the path to the image file on Google Drive\n",
        "#image_path = '/content/drive/My Drive/Colab Notebooks/Files/image.png'\n",
        "\n",
        "drive_path = '/content/drive/My Drive/Colab Notebooks/Files/'\n",
        "image_path = drive_path + 'image.png'\n"
      ],
      "metadata": {
        "colab": {
          "base_uri": "https://localhost:8080/"
        },
        "id": "azXiYHY9dHw_",
        "outputId": "4270a958-8aa7-453d-9cd1-952524e0836e"
      },
      "execution_count": 2,
      "outputs": [
        {
          "output_type": "stream",
          "name": "stdout",
          "text": [
            "Drive already mounted at /content/drive; to attempt to forcibly remount, call drive.mount(\"/content/drive\", force_remount=True).\n"
          ]
        }
      ]
    },
    {
      "cell_type": "code",
      "source": [
        "#CHECKS THE IMAGE SIZE\n",
        "\n",
        "from PIL import Image\n",
        "\n",
        "def get_image_size(image_path):\n",
        "    with Image.open(image_path) as img:\n",
        "        width, height = img.size\n",
        "        return width, height\n",
        "\n",
        "\n",
        "width, height = get_image_size(image_path)\n",
        "print(f\"The image size is {width}x{height} pixels.\")\n"
      ],
      "metadata": {
        "colab": {
          "base_uri": "https://localhost:8080/"
        },
        "id": "LyyXIVQsbVm8",
        "outputId": "c7c0644f-d41e-4821-97cc-f227d7930cda"
      },
      "execution_count": 3,
      "outputs": [
        {
          "output_type": "stream",
          "name": "stdout",
          "text": [
            "The image size is 1024x1024 pixels.\n"
          ]
        }
      ]
    },
    {
      "cell_type": "code",
      "source": [
        "#CREATES A TILEd IMAGE BASED ON THE ORIGINAL\n",
        "\n",
        "from PIL import Image\n",
        "\n",
        "def tile_image(image_path, output_path, num_tiles):\n",
        "    # Open the image\n",
        "    with Image.open(image_path) as image:\n",
        "        # Calculate the size of each tile\n",
        "        tile_size = (image.width // 1, image.height // 1)\n",
        "        print(\"tile size:\", tile_size)\n",
        "\n",
        "        # Calculate the size of the tiled image\n",
        "        tiled_image_size = (tile_size[0] * num_tiles[0], tile_size[1] * num_tiles[1])\n",
        "        print(\"tiled image size:\", tiled_image_size)\n",
        "\n",
        "        # Create a new image for tiling\n",
        "        tiled_image = Image.new('RGB', tiled_image_size)\n",
        "\n",
        "        # Paste copies of the original image at different positions to tile\n",
        "        for i in range(num_tiles[0]):\n",
        "            for j in range(num_tiles[1]):\n",
        "                tiled_image.paste(image, (i * tile_size[0], j * tile_size[1]))\n",
        "\n",
        "        # Save the tiled image\n",
        "        tiled_image.save(output_path)\n",
        "        print(\"file saved of tiled version\")\n",
        "\n",
        "# Example usage\n",
        "#image_path = '/content/drive/My Drive/Colab Notebooks/Files/image.png'\n",
        "#output_path = '/content/drive/My Drive/Colab Notebooks/Files/image_tiled.png'\n",
        "output_path = drive_path + 'image_tiled.png'\n",
        "num_tiles = 3\n",
        "tile_image(image_path, output_path, (num_tiles, num_tiles))"
      ],
      "metadata": {
        "colab": {
          "base_uri": "https://localhost:8080/"
        },
        "id": "fyKC3VZS8J-D",
        "outputId": "ac54e87c-6405-4273-f9dc-b9c3a00ec6d6"
      },
      "execution_count": 4,
      "outputs": [
        {
          "output_type": "stream",
          "name": "stdout",
          "text": [
            "tile size: (1024, 1024)\n",
            "tiled image size: (3072, 3072)\n",
            "file saved of tiled version\n"
          ]
        }
      ]
    },
    {
      "cell_type": "code",
      "source": [
        "#UPSCALES TO TARGET SIZE AND UPDATES DPI\n",
        "\n",
        "from PIL import Image\n",
        "\n",
        "def upscale_image(image_path, output_path, target_size, target_dpi):\n",
        "    with Image.open(image_path) as image:\n",
        "        upscaled_image = image.resize(target_size, resample=Image.LANCZOS)\n",
        "\n",
        "        # Get the original DPI or use a fallback DPI value\n",
        "        #original_dpi = upscaled_image.info.get('dpi', (72, 72))\n",
        "        \n",
        "        # Set the new DPI value in the metadata\n",
        "        #upscaled_image.info['dpi'] = (target_dpi, target_dpi)\n",
        "        \n",
        "        # Save the tiled image\n",
        "        upscaled_image.save(output_path, dpi=(target_dpi, target_dpi))\n",
        "        print(\"DPI updated to 300 & file saved of upscaled version\")\n",
        "\n",
        "# Example usage\n",
        "#image_path = '/content/drive/My Drive/Colab Notebooks/Files/image_tiled.png'\n",
        "image_path = drive_path + 'image_tiled.png'\n",
        "#output_path = '/content/drive/My Drive/Colab Notebooks/Files/upscaled_image.png'\n",
        "output_path = drive_path + 'upscaled_image.png'\n",
        "target_size = (3600, 3600) #target printed size is 12\" by 12\"\n",
        "target_dpi = 300\n",
        "upscale_image(image_path, output_path, target_size, target_dpi)\n",
        "\n"
      ],
      "metadata": {
        "colab": {
          "base_uri": "https://localhost:8080/"
        },
        "id": "KczzCuNk88dL",
        "outputId": "cc6c75ff-4956-49ca-ea70-ecf498bc6ac0"
      },
      "execution_count": 5,
      "outputs": [
        {
          "output_type": "stream",
          "name": "stdout",
          "text": [
            "DPI updated to 300 & file saved of upscaled version\n"
          ]
        }
      ]
    }
  ]
}